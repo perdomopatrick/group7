{
 "cells": [
  {
   "cell_type": "code",
   "execution_count": null,
   "id": "5dc98a31-a297-44ce-ac3e-1b1a62755978",
   "metadata": {
    "tags": []
   },
   "outputs": [],
   "source": [
    "library(repr)\n",
    "library(tidyverse)\n",
    "library(tidymodels)"
   ]
  },
  {
   "cell_type": "markdown",
   "id": "f9942127-4258-4a50-b1dd-1153bfe556f2",
   "metadata": {},
   "source": [
    "# Forest fires in Montesinho Park"
   ]
  },
  {
   "cell_type": "markdown",
   "id": "1919a2f3-c160-4e75-afe3-2344917c7640",
   "metadata": {},
   "source": [
    "# Introduction:\n",
    "\n",
    "The emergence of an early warning system for forest fires becomes imperative due to the devastating effects they bring, including the destruction of wildlife habitats and animal life, infrastructure damage, the release of toxic gasses into the atmosphere, and the potential loss of human lives. This need is further underscored by the increased risk and scale of forest fires in numerous regions globally, which can be attributed to the profound impact of climate change. We will be studying this using a dataset containing data pertaining to forest fires that occurred in Montesinho Park between January 2000 and December 2003 The question we will attempt to answer in with our project is “What is the relationship between the variables FFMC, DMC, DC, ISI, temperature, relative humidity, wind speed, and rainfall, and the extent of damage and area affected by forest fires within a specific geographic area?”\n"
   ]
  },
  {
   "cell_type": "markdown",
   "id": "2e2b7698-fd08-43a8-ad5e-97cf2c04132d",
   "metadata": {},
   "source": [
    "# Preliminary exploratory data analysis:"
   ]
  },
  {
   "cell_type": "code",
   "execution_count": null,
   "id": "a64e4b48-4698-472c-a40e-4dcd5ec9c979",
   "metadata": {
    "tags": []
   },
   "outputs": [],
   "source": [
    "url <- \"https://raw.githubusercontent.com/perdomopatrick/group7/main/forestfires.csv\"\n",
    "data <- read_csv(url)\n",
    "\n",
    "clean_data <- data|>\n",
    "      mutate(size = ifelse(area > 200, \"Large\", \"Small\")) |>\n",
    "      select(-X,-Y,-month,-day)\n",
    "clean_data"
   ]
  },
  {
   "cell_type": "code",
   "execution_count": null,
   "id": "822107b5-412f-40b2-aa40-f09b9c3a6135",
   "metadata": {
    "tags": []
   },
   "outputs": [],
   "source": [
    "set.seed(1133) \n",
    "\n",
    "data_split <- initial_split(clean_data, prop = 0.75, strata = area)\n",
    "data_training <- training(data_split)\n",
    "data_testing <- testing(data_split)"
   ]
  },
  {
   "cell_type": "code",
   "execution_count": null,
   "id": "b3c9b7b8-5052-4162-b054-29a86d13bf31",
   "metadata": {
    "tags": []
   },
   "outputs": [],
   "source": [
    "options(repr.plot.height = 5, repr.plot.width = 5)\n",
    "\n",
    "data_training_histogram <- ggplot(data_training, aes(x=FFMC, fill =size))+\n",
    "    geom_histogram(bins = 30)+\n",
    "    labs(title = \"Distributions for FFMC\",x = \"Fine Fuel Moisture Code (from  FWI system)\", fill = \"Forest Fire Size\")\n",
    "data_training_histogram\n",
    "\n",
    "data_training_histogram2 <- ggplot(data_training, aes(x=DMC, fill =size))+\n",
    "    geom_histogram(bins = 30)+\n",
    "  labs(title = \"Distributions for DMC\",x  = \"Duff Moisture Code (from  FWI system)\", fill = \"Forest Fire Size\")\n",
    "data_training_histogram2\n",
    "\n",
    "data_training_histogram3 <- ggplot(data_training, aes(x=DC, fill =size))+\n",
    "    geom_histogram(bins = 30)+\n",
    "  labs(title = \"Distributions for DC with Mean\",x= \"Drought Code (from  FWI system)\", fill = \"Forest Fire Size\")\n",
    "data_training_histogram3\n",
    "\n",
    "data_training_histogram4 <- ggplot(data_training, aes(x=ISI, fill =size))+\n",
    "    geom_histogram(bins = 30)+\n",
    "  labs(title = \"Distributions for ISI with Mean\",x = \"Initial Spread Index (from  FWI system)\", fill = \"Forest Fire Size\")\n",
    "data_training_histogram4\n",
    "\n",
    "data_training_histogram5 <- ggplot(data_training, aes(x=RH, fill =size))+\n",
    "    geom_histogram(bins = 30)+\n",
    "  labs(title = \"Distributions for Relative Humidity with Mean\",x = \"Relative Humidity (percentage)\", fill = \"Forest Fire Size\")\n",
    "data_training_histogram5\n",
    "\n",
    "data_training_histogram6 <- ggplot(data_training, aes(x=wind, fill =size))+\n",
    "    geom_histogram(bins = 30)+\n",
    "  labs(title = \"Distributions for Wind with Mean\",x = \"Wind (km/h:)\", fill = \"Forest Fire Size\")\n",
    "data_training_histogram6\n",
    "\n",
    "data_training_histogram7 <- ggplot(data_training, aes(x=rain, fill =size))+\n",
    "    geom_histogram(bins = 30)+\n",
    "  labs(title = \"Distributions for Rain with Mean\",x = \"Rain (mm/m2)\", fill = \"Forest Fire Size\")\n",
    "data_training_histogram7\n",
    "\n",
    "data_training_histogram8 <- ggplot(data_training, aes(x=temp, fill =size))+\n",
    "    geom_histogram(bins = 30)+\n",
    "  labs(title = \"Distributions for Temperature with Mean\",x = \"Temperature (Celsius)\", fill = \"Forest Fire Size\")\n",
    "data_training_histogram8\n"
   ]
  },
  {
   "cell_type": "code",
   "execution_count": null,
   "id": "18d06818-95b8-4391-9460-d0af40b394a2",
   "metadata": {
    "tags": []
   },
   "outputs": [],
   "source": [
    "data_training_plot <- ggplot(data_training, aes(x = size, y = FFMC, fill =size)) +\n",
    "  geom_boxplot() +\n",
    "  geom_hline(aes(yintercept = mean(FFMC)), color = \"red\", linetype = \"dashed\", size = 1) +\n",
    "  labs(title = \"Box Plot for FFMC with Mean\",x = \"Forest Fire Size\", y = \"Fine Fuel Moisture Code (from  FWI system)\", fill = \"Forest Fire Size\")\n",
    "data_training_plot\n",
    "\n",
    "data_training_plot2 <- ggplot(data_training, aes(x = size, y = DMC, fill =size)) +\n",
    "  geom_boxplot() +\n",
    "  geom_hline(aes(yintercept = mean(DMC)), color = \"red\", linetype = \"dashed\", size = 1) +\n",
    "  labs(title = \"Box Plot for DMC with Mean\",x = \"Forest Fire Size\", y = \"Duff Moisture Code (from  FWI system)\", fill = \"Forest Fire Size\")\n",
    "data_training_plot2\n",
    "\n",
    "data_training_plot3 <- ggplot(data_training, aes(x = size, y = DC, fill =size)) +\n",
    "  geom_boxplot() +\n",
    "  geom_hline(aes(yintercept = mean(DC)), color = \"red\", linetype = \"dashed\", size = 1) +\n",
    "  labs(title = \"Box Plot for DC with Mean\",x = \"Forest Fire Size\", y = \"Drought Code (from  FWI system)\", fill = \"Forest Fire Size\")\n",
    "data_training_plot3\n",
    "\n",
    "data_training_plot4 <- ggplot(data_training, aes(x = size, y = ISI, fill =size)) +\n",
    "  geom_boxplot() +\n",
    "  geom_hline(aes(yintercept = mean(ISI)), color = \"red\", linetype = \"dashed\", size = 1) +\n",
    "  labs(title = \"Box Plot for ISI with Mean\",x = \"Forest Fire Size\", y = \"Initial Spread Index (from  FWI system)\", fill = \"Forest Fire Size\")\n",
    "data_training_plot4\n",
    "\n",
    "data_training_plot5 <- ggplot(data_training, aes(x = size, y = RH, fill =size)) +\n",
    "  geom_boxplot() +\n",
    "  geom_hline(aes(yintercept = mean(RH)), color = \"red\", linetype = \"dashed\", size = 1) +\n",
    "  labs(title = \"Box Plot for Relative Humidity with Mean\",x = \"Forest Fire Size\", y = \"Relative Humidity (percentage)\", fill = \"Forest Fire Size\")\n",
    "data_training_plot5\n",
    "\n",
    "data_training_plot6 <- ggplot(data_training, aes(x = size, y = wind, fill =size)) +\n",
    "  geom_boxplot() +\n",
    "  geom_hline(aes(yintercept = mean(wind)), color = \"red\", linetype = \"dashed\", size = 1) +\n",
    "  labs(title = \"Box Plot for Wind with Mean\",x = \"Forest Fire Size\", y = \"Wind (km/h:)\", fill = \"Forest Fire Size\")\n",
    "data_training_plot6\n",
    "\n",
    "data_training_plot7 <- ggplot(data_training, aes(x =size, y = rain, fill =size)) +\n",
    "  geom_boxplot() +\n",
    "  geom_hline(aes(yintercept = mean(rain)), color = \"red\", linetype = \"dashed\", size = 1) +\n",
    "  labs(title = \"Box Plot for Rain with Mean\",x = \"Forest Fire Size\", y = \"Rain (mm/m2)\", fill = \"Forest Fire Size\")\n",
    "data_training_plot7\n",
    "\n",
    "data_training_plot8 <- ggplot(data_training, aes(x = size, y = temp, fill =size)) +\n",
    "  geom_boxplot() +\n",
    "  geom_hline(aes(yintercept = mean(temp)), color = \"red\", linetype = \"dashed\", size = 1) +\n",
    "  labs(title = \"Box Plot for Temperature with Mean\",x = \"Forest Fire Size\", y = \"Temperature (Celsius)\", fill = \"Forest Fire Size\")\n",
    "data_training_plot8"
   ]
  },
  {
   "cell_type": "markdown",
   "id": "6ade73c1-4c1e-47c3-86c5-3db3ddf8dd5b",
   "metadata": {
    "tags": []
   },
   "source": [
    "# Methods\n",
    "\n",
    "We will be working with a dataset containing data in relation to forest fires that took place in Montesinho Park between January 2000 and December 2003. The dataset contains a wide spread of information pertaining to the environmental factors present when fires occurred, such as area burned,  the Duff Moisture code (DMC- measure of moisture/dryness of organic material at forest floor), Fine Fuel Moisture Code (FFMC- a measure of the moisture levels of grass and leaves in the park), temperature, relative humidity, wind etc. Using data from these variables, we will be using the classification mode of the K- nearest neighbors function to to analyze and try to answer the question of “What is the relationship between the variables FFMC, DMC, DC, ISI, temperature, relative humidity, wind speed, and rainfall, and the extent of damage and area affected by forest fires within a specific geographic area?”\n",
    "\n",
    "- Histograms\n",
    "  - Data Distribution\n",
    "    - Range (limits)\n",
    "    - Trend (differences)\n",
    "    - Variability (behaviour)\n",
    "    - Outliers (outside of distribution)\n",
    "    \n",
    "<!-- -->\n",
    "\n",
    "- Box plots\n",
    "  - Which variable are useless and will not be a predictor\n",
    "    - If variable does not change between class of fire\n",
    "  - The mean of the variables between fire types\n",
    "    - Understand the relationship between variable and fire size\n",
    "    - How x variables affect the outcome of fire size\n",
    "  - The mean of the variables\n",
    "    - Understand the central tendency"
   ]
  },
  {
   "cell_type": "markdown",
   "id": "7b2f86e1-f6c7-4728-a03a-2b241ca31393",
   "metadata": {},
   "source": [
    "# Expected outcomes and significance:\n",
    "\n",
    "With our project, we expect to find what factors and conditions are linked to large wildfires, so that we can predict the size of a fire. These findings could help us get a deeper understanding of wildfires and could help with the prevention of future wildfires, thus potentially reducing their devastating impact on ecosystems and communities. In the future, we could ask if our findings could be used in other regions of the world outside of Montesinho Park. Do the relationships hold true in other types of forest or other climates? Also does the classification model using the 2000 to 2003 data still hold up when applied to more recent data from the Montesinho Park?\n"
   ]
  }
 ],
 "metadata": {
  "kernelspec": {
   "display_name": "R",
   "language": "R",
   "name": "ir"
  },
  "language_info": {
   "codemirror_mode": "r",
   "file_extension": ".r",
   "mimetype": "text/x-r-source",
   "name": "R",
   "pygments_lexer": "r",
   "version": "4.2.2"
  }
 },
 "nbformat": 4,
 "nbformat_minor": 5
}
