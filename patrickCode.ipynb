{
 "cells": [
  {
   "cell_type": "markdown",
   "id": "33dedd25-421f-4ea6-920b-fedb62b13c20",
   "metadata": {},
   "source": [
    "$need \\:to \\:add \\:labels$\n",
    "\n",
    "https://www.kaggle.com/datasets/elikplim/forest-fires-data-set"
   ]
  },
  {
   "cell_type": "code",
   "execution_count": 1,
   "id": "2488e13c-e9f1-4e86-b5c4-76a0680a6908",
   "metadata": {
    "tags": []
   },
   "outputs": [
    {
     "name": "stderr",
     "output_type": "stream",
     "text": [
      "── \u001b[1mAttaching packages\u001b[22m ─────────────────────────────────────── tidyverse 1.3.2 ──\n",
      "\u001b[32m✔\u001b[39m \u001b[34mggplot2\u001b[39m 3.4.2     \u001b[32m✔\u001b[39m \u001b[34mpurrr  \u001b[39m 1.0.1\n",
      "\u001b[32m✔\u001b[39m \u001b[34mtibble \u001b[39m 3.2.1     \u001b[32m✔\u001b[39m \u001b[34mdplyr  \u001b[39m 1.1.1\n",
      "\u001b[32m✔\u001b[39m \u001b[34mtidyr  \u001b[39m 1.3.0     \u001b[32m✔\u001b[39m \u001b[34mstringr\u001b[39m 1.5.0\n",
      "\u001b[32m✔\u001b[39m \u001b[34mreadr  \u001b[39m 2.1.3     \u001b[32m✔\u001b[39m \u001b[34mforcats\u001b[39m 0.5.2\n",
      "── \u001b[1mConflicts\u001b[22m ────────────────────────────────────────── tidyverse_conflicts() ──\n",
      "\u001b[31m✖\u001b[39m \u001b[34mdplyr\u001b[39m::\u001b[32mfilter()\u001b[39m masks \u001b[34mstats\u001b[39m::filter()\n",
      "\u001b[31m✖\u001b[39m \u001b[34mdplyr\u001b[39m::\u001b[32mlag()\u001b[39m    masks \u001b[34mstats\u001b[39m::lag()\n",
      "── \u001b[1mAttaching packages\u001b[22m ────────────────────────────────────── tidymodels 1.0.0 ──\n",
      "\n",
      "\u001b[32m✔\u001b[39m \u001b[34mbroom       \u001b[39m 1.0.2     \u001b[32m✔\u001b[39m \u001b[34mrsample     \u001b[39m 1.1.1\n",
      "\u001b[32m✔\u001b[39m \u001b[34mdials       \u001b[39m 1.1.0     \u001b[32m✔\u001b[39m \u001b[34mtune        \u001b[39m 1.0.1\n",
      "\u001b[32m✔\u001b[39m \u001b[34minfer       \u001b[39m 1.0.4     \u001b[32m✔\u001b[39m \u001b[34mworkflows   \u001b[39m 1.1.2\n",
      "\u001b[32m✔\u001b[39m \u001b[34mmodeldata   \u001b[39m 1.0.1     \u001b[32m✔\u001b[39m \u001b[34mworkflowsets\u001b[39m 1.0.0\n",
      "\u001b[32m✔\u001b[39m \u001b[34mparsnip     \u001b[39m 1.0.3     \u001b[32m✔\u001b[39m \u001b[34myardstick   \u001b[39m 1.1.0\n",
      "\u001b[32m✔\u001b[39m \u001b[34mrecipes     \u001b[39m 1.0.4     \n",
      "\n",
      "── \u001b[1mConflicts\u001b[22m ───────────────────────────────────────── tidymodels_conflicts() ──\n",
      "\u001b[31m✖\u001b[39m \u001b[34mscales\u001b[39m::\u001b[32mdiscard()\u001b[39m masks \u001b[34mpurrr\u001b[39m::discard()\n",
      "\u001b[31m✖\u001b[39m \u001b[34mdplyr\u001b[39m::\u001b[32mfilter()\u001b[39m   masks \u001b[34mstats\u001b[39m::filter()\n",
      "\u001b[31m✖\u001b[39m \u001b[34mrecipes\u001b[39m::\u001b[32mfixed()\u001b[39m  masks \u001b[34mstringr\u001b[39m::fixed()\n",
      "\u001b[31m✖\u001b[39m \u001b[34mdplyr\u001b[39m::\u001b[32mlag()\u001b[39m      masks \u001b[34mstats\u001b[39m::lag()\n",
      "\u001b[31m✖\u001b[39m \u001b[34myardstick\u001b[39m::\u001b[32mspec()\u001b[39m masks \u001b[34mreadr\u001b[39m::spec()\n",
      "\u001b[31m✖\u001b[39m \u001b[34mrecipes\u001b[39m::\u001b[32mstep()\u001b[39m   masks \u001b[34mstats\u001b[39m::step()\n",
      "\u001b[34m•\u001b[39m Use \u001b[32mtidymodels_prefer()\u001b[39m to resolve common conflicts.\n",
      "\n"
     ]
    }
   ],
   "source": [
    "library(repr)\n",
    "library(tidyverse)\n",
    "library(tidymodels)\n",
    "\n",
    "library(kknn)"
   ]
  },
  {
   "cell_type": "markdown",
   "id": "0e3804cc-41d7-4279-91a8-d391f8c30652",
   "metadata": {},
   "source": [
    "- Read and wrangle your data."
   ]
  },
  {
   "cell_type": "code",
   "execution_count": 2,
   "id": "d23e36ce-c44b-4ff3-b2a3-367d1e50c6b1",
   "metadata": {
    "tags": []
   },
   "outputs": [
    {
     "name": "stderr",
     "output_type": "stream",
     "text": [
      "\u001b[1mRows: \u001b[22m\u001b[34m517\u001b[39m \u001b[1mColumns: \u001b[22m\u001b[34m13\u001b[39m\n",
      "\u001b[36m──\u001b[39m \u001b[1mColumn specification\u001b[22m \u001b[36m────────────────────────────────────────────────────────\u001b[39m\n",
      "\u001b[1mDelimiter:\u001b[22m \",\"\n",
      "\u001b[31mchr\u001b[39m  (2): month, day\n",
      "\u001b[32mdbl\u001b[39m (11): X, Y, FFMC, DMC, DC, ISI, temp, RH, wind, rain, area\n",
      "\n",
      "\u001b[36mℹ\u001b[39m Use `spec()` to retrieve the full column specification for this data.\n",
      "\u001b[36mℹ\u001b[39m Specify the column types or set `show_col_types = FALSE` to quiet this message.\n"
     ]
    },
    {
     "data": {
      "text/html": [
       "<table class=\"dataframe\">\n",
       "<caption>A tibble: 5 × 9</caption>\n",
       "<thead>\n",
       "\t<tr><th scope=col>FFMC</th><th scope=col>DMC</th><th scope=col>DC</th><th scope=col>ISI</th><th scope=col>temp</th><th scope=col>RH</th><th scope=col>wind</th><th scope=col>rain</th><th scope=col>area</th></tr>\n",
       "\t<tr><th scope=col>&lt;dbl&gt;</th><th scope=col>&lt;dbl&gt;</th><th scope=col>&lt;dbl&gt;</th><th scope=col>&lt;dbl&gt;</th><th scope=col>&lt;dbl&gt;</th><th scope=col>&lt;dbl&gt;</th><th scope=col>&lt;dbl&gt;</th><th scope=col>&lt;dbl&gt;</th><th scope=col>&lt;dbl&gt;</th></tr>\n",
       "</thead>\n",
       "<tbody>\n",
       "\t<tr><td>86.2</td><td>26.2</td><td> 94.3</td><td>5.1</td><td> 8.2</td><td>51</td><td>6.7</td><td>0.0</td><td>0</td></tr>\n",
       "\t<tr><td>90.6</td><td>35.4</td><td>669.1</td><td>6.7</td><td>18.0</td><td>33</td><td>0.9</td><td>0.0</td><td>0</td></tr>\n",
       "\t<tr><td>90.6</td><td>43.7</td><td>686.9</td><td>6.7</td><td>14.6</td><td>33</td><td>1.3</td><td>0.0</td><td>0</td></tr>\n",
       "\t<tr><td>91.7</td><td>33.3</td><td> 77.5</td><td>9.0</td><td> 8.3</td><td>97</td><td>4.0</td><td>0.2</td><td>0</td></tr>\n",
       "\t<tr><td>89.3</td><td>51.3</td><td>102.2</td><td>9.6</td><td>11.4</td><td>99</td><td>1.8</td><td>0.0</td><td>0</td></tr>\n",
       "</tbody>\n",
       "</table>\n"
      ],
      "text/latex": [
       "A tibble: 5 × 9\n",
       "\\begin{tabular}{lllllllll}\n",
       " FFMC & DMC & DC & ISI & temp & RH & wind & rain & area\\\\\n",
       " <dbl> & <dbl> & <dbl> & <dbl> & <dbl> & <dbl> & <dbl> & <dbl> & <dbl>\\\\\n",
       "\\hline\n",
       "\t 86.2 & 26.2 &  94.3 & 5.1 &  8.2 & 51 & 6.7 & 0.0 & 0\\\\\n",
       "\t 90.6 & 35.4 & 669.1 & 6.7 & 18.0 & 33 & 0.9 & 0.0 & 0\\\\\n",
       "\t 90.6 & 43.7 & 686.9 & 6.7 & 14.6 & 33 & 1.3 & 0.0 & 0\\\\\n",
       "\t 91.7 & 33.3 &  77.5 & 9.0 &  8.3 & 97 & 4.0 & 0.2 & 0\\\\\n",
       "\t 89.3 & 51.3 & 102.2 & 9.6 & 11.4 & 99 & 1.8 & 0.0 & 0\\\\\n",
       "\\end{tabular}\n"
      ],
      "text/markdown": [
       "\n",
       "A tibble: 5 × 9\n",
       "\n",
       "| FFMC &lt;dbl&gt; | DMC &lt;dbl&gt; | DC &lt;dbl&gt; | ISI &lt;dbl&gt; | temp &lt;dbl&gt; | RH &lt;dbl&gt; | wind &lt;dbl&gt; | rain &lt;dbl&gt; | area &lt;dbl&gt; |\n",
       "|---|---|---|---|---|---|---|---|---|\n",
       "| 86.2 | 26.2 |  94.3 | 5.1 |  8.2 | 51 | 6.7 | 0.0 | 0 |\n",
       "| 90.6 | 35.4 | 669.1 | 6.7 | 18.0 | 33 | 0.9 | 0.0 | 0 |\n",
       "| 90.6 | 43.7 | 686.9 | 6.7 | 14.6 | 33 | 1.3 | 0.0 | 0 |\n",
       "| 91.7 | 33.3 |  77.5 | 9.0 |  8.3 | 97 | 4.0 | 0.2 | 0 |\n",
       "| 89.3 | 51.3 | 102.2 | 9.6 | 11.4 | 99 | 1.8 | 0.0 | 0 |\n",
       "\n"
      ],
      "text/plain": [
       "  FFMC DMC  DC    ISI temp RH wind rain area\n",
       "1 86.2 26.2  94.3 5.1  8.2 51 6.7  0.0  0   \n",
       "2 90.6 35.4 669.1 6.7 18.0 33 0.9  0.0  0   \n",
       "3 90.6 43.7 686.9 6.7 14.6 33 1.3  0.0  0   \n",
       "4 91.7 33.3  77.5 9.0  8.3 97 4.0  0.2  0   \n",
       "5 89.3 51.3 102.2 9.6 11.4 99 1.8  0.0  0   "
      ]
     },
     "metadata": {},
     "output_type": "display_data"
    }
   ],
   "source": [
    "url <- \"https://raw.githubusercontent.com/perdomopatrick/group7/main/forestfires.csv\"\n",
    "data <- read_csv(url)\n",
    "\n",
    "clean_data <- data|>\n",
    "      select(-X,-Y,-month,-day)\n",
    "\n",
    "head(clean_data, n= 5)"
   ]
  },
  {
   "cell_type": "markdown",
   "id": "7b688c11-068a-48c2-9a9a-74439aa0e6a1",
   "metadata": {},
   "source": [
    "- Split data into training and test-set."
   ]
  },
  {
   "cell_type": "code",
   "execution_count": 3,
   "id": "cdc6a87b-21a7-4ee3-aec9-9cce2a637cca",
   "metadata": {
    "tags": []
   },
   "outputs": [],
   "source": [
    "set.seed(1133) \n",
    "\n",
    "data_split <- initial_split(clean_data, prop = 0.75, strata = area)\n",
    "data_training <- training(data_split)\n",
    "data_testing <- testing(data_split)"
   ]
  },
  {
   "cell_type": "markdown",
   "id": "e5b2108c-5602-44b7-a08d-20de0eec97df",
   "metadata": {
    "tags": []
   },
   "source": [
    "- Make a table or two for the mean statistics of your training set and/or test set."
   ]
  },
  {
   "cell_type": "code",
   "execution_count": 4,
   "id": "01330c89-dd1c-45dc-b4eb-1ecdc654e91d",
   "metadata": {
    "tags": []
   },
   "outputs": [
    {
     "data": {
      "text/html": [
       "<table class=\"dataframe\">\n",
       "<caption>A tibble: 9 × 2</caption>\n",
       "<thead>\n",
       "\t<tr><th scope=col>Variables</th><th scope=col>Mean</th></tr>\n",
       "\t<tr><th scope=col>&lt;chr&gt;</th><th scope=col>&lt;dbl&gt;</th></tr>\n",
       "</thead>\n",
       "<tbody>\n",
       "\t<tr><td>FFMC</td><td> 90.6772021</td></tr>\n",
       "\t<tr><td>DMC </td><td>109.9064767</td></tr>\n",
       "\t<tr><td>DC  </td><td>541.4875648</td></tr>\n",
       "\t<tr><td>ISI </td><td>  9.0487047</td></tr>\n",
       "\t<tr><td>temp</td><td> 18.9655440</td></tr>\n",
       "\t<tr><td>RH  </td><td> 44.1502591</td></tr>\n",
       "\t<tr><td>wind</td><td>  4.0261658</td></tr>\n",
       "\t<tr><td>rain</td><td>  0.0253886</td></tr>\n",
       "\t<tr><td>area</td><td> 14.1083161</td></tr>\n",
       "</tbody>\n",
       "</table>\n"
      ],
      "text/latex": [
       "A tibble: 9 × 2\n",
       "\\begin{tabular}{ll}\n",
       " Variables & Mean\\\\\n",
       " <chr> & <dbl>\\\\\n",
       "\\hline\n",
       "\t FFMC &  90.6772021\\\\\n",
       "\t DMC  & 109.9064767\\\\\n",
       "\t DC   & 541.4875648\\\\\n",
       "\t ISI  &   9.0487047\\\\\n",
       "\t temp &  18.9655440\\\\\n",
       "\t RH   &  44.1502591\\\\\n",
       "\t wind &   4.0261658\\\\\n",
       "\t rain &   0.0253886\\\\\n",
       "\t area &  14.1083161\\\\\n",
       "\\end{tabular}\n"
      ],
      "text/markdown": [
       "\n",
       "A tibble: 9 × 2\n",
       "\n",
       "| Variables &lt;chr&gt; | Mean &lt;dbl&gt; |\n",
       "|---|---|\n",
       "| FFMC |  90.6772021 |\n",
       "| DMC  | 109.9064767 |\n",
       "| DC   | 541.4875648 |\n",
       "| ISI  |   9.0487047 |\n",
       "| temp |  18.9655440 |\n",
       "| RH   |  44.1502591 |\n",
       "| wind |   4.0261658 |\n",
       "| rain |   0.0253886 |\n",
       "| area |  14.1083161 |\n",
       "\n"
      ],
      "text/plain": [
       "  Variables Mean       \n",
       "1 FFMC       90.6772021\n",
       "2 DMC       109.9064767\n",
       "3 DC        541.4875648\n",
       "4 ISI         9.0487047\n",
       "5 temp       18.9655440\n",
       "6 RH         44.1502591\n",
       "7 wind        4.0261658\n",
       "8 rain        0.0253886\n",
       "9 area       14.1083161"
      ]
     },
     "metadata": {},
     "output_type": "display_data"
    }
   ],
   "source": [
    "mean_stats_train <- data_training|>\n",
    "    summarise(across(everything(), ~mean(.x, na.rm = TRUE)))|>\n",
    "    pivot_longer(cols = everything(), \n",
    "                 names_to = \"Variables\", \n",
    "                 values_to = \"Mean\")\n",
    "mean_stats_train"
   ]
  },
  {
   "cell_type": "markdown",
   "id": "cdb3d5ac-58b0-4550-b2f8-689bcdeba8d7",
   "metadata": {
    "tags": []
   },
   "source": [
    "- Use the forward selection method to choose the best predictor variables for your response. (Check 6.8.3 for the forward selection method)\n",
    "- https://datasciencebook.ca/classification2.html#forward-selection-in-r"
   ]
  },
  {
   "cell_type": "code",
   "execution_count": 5,
   "id": "e9dc058f-50ab-4d78-8096-292239cf0a41",
   "metadata": {
    "tags": []
   },
   "outputs": [
    {
     "name": "stderr",
     "output_type": "stream",
     "text": [
      "\u001b[33m!\u001b[39m \u001b[33mFold1: internal:\n",
      "  \u001b[1m\u001b[22mThere were 10 warnings in `dplyr::summarise()`.\n",
      "  The first warning was:\n",
      "  \u001b[1m\u001b[22m\u001b[36mℹ\u001b[33m In argument: `.estimate = metric_fn(truth = area,...\n",
      "    na_rm)`.\n",
      "  \u001b[36mℹ\u001b[33m In group 1: `neighbors = 1`.\n",
      "  Caused by warning:\n",
      "  \u001b[33m!\u001b[33m A correlation computation is required, but `estimate` is c...\n",
      "  \u001b[1m\u001b[22m\u001b[36mℹ\u001b[33m Run `dplyr::last_dplyr_warnings()` to see the 9 r...\u001b[39m\n",
      "\n",
      "\u001b[33m!\u001b[39m \u001b[33mFold2: internal:\n",
      "  \u001b[1m\u001b[22mThere were 10 warnings in `dplyr::summarise()`.\n",
      "  The first warning was:\n",
      "  \u001b[1m\u001b[22m\u001b[36mℹ\u001b[33m In argument: `.estimate = metric_fn(truth = area,...\n",
      "    na_rm)`.\n",
      "  \u001b[36mℹ\u001b[33m In group 1: `neighbors = 1`.\n",
      "  Caused by warning:\n",
      "  \u001b[33m!\u001b[33m A correlation computation is required, but `estimate` is c...\n",
      "  \u001b[1m\u001b[22m\u001b[36mℹ\u001b[33m Run `dplyr::last_dplyr_warnings()` to see the 9 r...\u001b[39m\n",
      "\n",
      "\u001b[33m!\u001b[39m \u001b[33mFold3: internal:\n",
      "  \u001b[1m\u001b[22mThere were 10 warnings in `dplyr::summarise()`.\n",
      "  The first warning was:\n",
      "  \u001b[1m\u001b[22m\u001b[36mℹ\u001b[33m In argument: `.estimate = metric_fn(truth = area,...\n",
      "    na_rm)`.\n",
      "  \u001b[36mℹ\u001b[33m In group 1: `neighbors = 1`.\n",
      "  Caused by warning:\n",
      "  \u001b[33m!\u001b[33m A correlation computation is required, but `estimate` is c...\n",
      "  \u001b[1m\u001b[22m\u001b[36mℹ\u001b[33m Run `dplyr::last_dplyr_warnings()` to see the 9 r...\u001b[39m\n",
      "\n",
      "\u001b[33m!\u001b[39m \u001b[33mFold4: internal:\n",
      "  \u001b[1m\u001b[22mThere were 10 warnings in `dplyr::summarise()`.\n",
      "  The first warning was:\n",
      "  \u001b[1m\u001b[22m\u001b[36mℹ\u001b[33m In argument: `.estimate = metric_fn(truth = area,...\n",
      "    na_rm)`.\n",
      "  \u001b[36mℹ\u001b[33m In group 1: `neighbors = 1`.\n",
      "  Caused by warning:\n",
      "  \u001b[33m!\u001b[33m A correlation computation is required, but `estimate` is c...\n",
      "  \u001b[1m\u001b[22m\u001b[36mℹ\u001b[33m Run `dplyr::last_dplyr_warnings()` to see the 9 r...\u001b[39m\n",
      "\n",
      "\u001b[33m!\u001b[39m \u001b[33mFold5: internal:\n",
      "  \u001b[1m\u001b[22mThere were 10 warnings in `dplyr::summarise()`.\n",
      "  The first warning was:\n",
      "  \u001b[1m\u001b[22m\u001b[36mℹ\u001b[33m In argument: `.estimate = metric_fn(truth = area,...\n",
      "    na_rm)`.\n",
      "  \u001b[36mℹ\u001b[33m In group 1: `neighbors = 1`.\n",
      "  Caused by warning:\n",
      "  \u001b[33m!\u001b[33m A correlation computation is required, but `estimate` is c...\n",
      "  \u001b[1m\u001b[22m\u001b[36mℹ\u001b[33m Run `dplyr::last_dplyr_warnings()` to see the 9 r...\u001b[39m\n",
      "\n"
     ]
    },
    {
     "data": {
      "text/html": [
       "<table class=\"dataframe\">\n",
       "<caption>A tibble: 8 × 3</caption>\n",
       "<thead>\n",
       "\t<tr><th scope=col>size</th><th scope=col>model_string</th><th scope=col>rmse</th></tr>\n",
       "\t<tr><th scope=col>&lt;int&gt;</th><th scope=col>&lt;chr&gt;</th><th scope=col>&lt;dbl&gt;</th></tr>\n",
       "</thead>\n",
       "<tbody>\n",
       "\t<tr><td>1</td><td>area ~ temp                             </td><td>65.22513</td></tr>\n",
       "\t<tr><td>2</td><td>area ~ temp+ISI                         </td><td>66.34064</td></tr>\n",
       "\t<tr><td>3</td><td>area ~ temp+ISI+FFMC                    </td><td>67.06623</td></tr>\n",
       "\t<tr><td>4</td><td>area ~ temp+ISI+FFMC+DC                 </td><td>67.06683</td></tr>\n",
       "\t<tr><td>5</td><td>area ~ temp+ISI+FFMC+DC+DMC             </td><td>67.67206</td></tr>\n",
       "\t<tr><td>6</td><td>area ~ temp+ISI+FFMC+DC+DMC+rain        </td><td>67.39946</td></tr>\n",
       "\t<tr><td>7</td><td>area ~ temp+ISI+FFMC+DC+DMC+rain+wind   </td><td>67.49468</td></tr>\n",
       "\t<tr><td>8</td><td>area ~ temp+ISI+FFMC+DC+DMC+rain+wind+RH</td><td>66.77548</td></tr>\n",
       "</tbody>\n",
       "</table>\n"
      ],
      "text/latex": [
       "A tibble: 8 × 3\n",
       "\\begin{tabular}{lll}\n",
       " size & model\\_string & rmse\\\\\n",
       " <int> & <chr> & <dbl>\\\\\n",
       "\\hline\n",
       "\t 1 & area \\textasciitilde{} temp                              & 65.22513\\\\\n",
       "\t 2 & area \\textasciitilde{} temp+ISI                          & 66.34064\\\\\n",
       "\t 3 & area \\textasciitilde{} temp+ISI+FFMC                     & 67.06623\\\\\n",
       "\t 4 & area \\textasciitilde{} temp+ISI+FFMC+DC                  & 67.06683\\\\\n",
       "\t 5 & area \\textasciitilde{} temp+ISI+FFMC+DC+DMC              & 67.67206\\\\\n",
       "\t 6 & area \\textasciitilde{} temp+ISI+FFMC+DC+DMC+rain         & 67.39946\\\\\n",
       "\t 7 & area \\textasciitilde{} temp+ISI+FFMC+DC+DMC+rain+wind    & 67.49468\\\\\n",
       "\t 8 & area \\textasciitilde{} temp+ISI+FFMC+DC+DMC+rain+wind+RH & 66.77548\\\\\n",
       "\\end{tabular}\n"
      ],
      "text/markdown": [
       "\n",
       "A tibble: 8 × 3\n",
       "\n",
       "| size &lt;int&gt; | model_string &lt;chr&gt; | rmse &lt;dbl&gt; |\n",
       "|---|---|---|\n",
       "| 1 | area ~ temp                              | 65.22513 |\n",
       "| 2 | area ~ temp+ISI                          | 66.34064 |\n",
       "| 3 | area ~ temp+ISI+FFMC                     | 67.06623 |\n",
       "| 4 | area ~ temp+ISI+FFMC+DC                  | 67.06683 |\n",
       "| 5 | area ~ temp+ISI+FFMC+DC+DMC              | 67.67206 |\n",
       "| 6 | area ~ temp+ISI+FFMC+DC+DMC+rain         | 67.39946 |\n",
       "| 7 | area ~ temp+ISI+FFMC+DC+DMC+rain+wind    | 67.49468 |\n",
       "| 8 | area ~ temp+ISI+FFMC+DC+DMC+rain+wind+RH | 66.77548 |\n",
       "\n"
      ],
      "text/plain": [
       "  size model_string                             rmse    \n",
       "1 1    area ~ temp                              65.22513\n",
       "2 2    area ~ temp+ISI                          66.34064\n",
       "3 3    area ~ temp+ISI+FFMC                     67.06623\n",
       "4 4    area ~ temp+ISI+FFMC+DC                  67.06683\n",
       "5 5    area ~ temp+ISI+FFMC+DC+DMC              67.67206\n",
       "6 6    area ~ temp+ISI+FFMC+DC+DMC+rain         67.39946\n",
       "7 7    area ~ temp+ISI+FFMC+DC+DMC+rain+wind    67.49468\n",
       "8 8    area ~ temp+ISI+FFMC+DC+DMC+rain+wind+RH 66.77548"
      ]
     },
     "metadata": {},
     "output_type": "display_data"
    }
   ],
   "source": [
    "set.seed(1133) \n",
    "\n",
    "names <- colnames(data_training |> select(-area))\n",
    "\n",
    "# create an empty tibble to store the results\n",
    "results <- tibble(size = integer(), \n",
    "                     model_string = character(), \n",
    "                     rmse = numeric())\n",
    "\n",
    "# create a model specification\n",
    "knn_spec <- nearest_neighbor(weight_func = \"rectangular\", \n",
    "                             neighbors = tune()) |>\n",
    "     set_engine(\"kknn\") |>\n",
    "     set_mode(\"regression\")\n",
    "\n",
    "# create a 5-fold cross-validation object\n",
    "fire_vfold <- vfold_cv(data_training, v = 5, strata = area)\n",
    "\n",
    "# store the total number of predictors\n",
    "n_total <- length(names)\n",
    "\n",
    "# stores selected predictors\n",
    "selected <- c()\n",
    "\n",
    "# for every size from 1 to the total number of predictors\n",
    "for (i in 1:n_total) {\n",
    "    # for every predictor still not added yet\n",
    "    accs <- list()\n",
    "    models <- list()\n",
    "    for (j in 1:length(names)) {\n",
    "        # create a model string for this combination of predictors\n",
    "        preds_new <- c(selected, names[[j]])\n",
    "        model_string <- paste(\"area\", \"~\", paste(preds_new, collapse=\"+\"))\n",
    "\n",
    "        # create a recipe from the model string\n",
    "        fire_recipe <- recipe(as.formula(model_string), \n",
    "                                data = data_training) |>\n",
    "                          step_scale(all_predictors()) |>\n",
    "                          step_center(all_predictors())\n",
    "\n",
    "        # tune the KNN classifier with these predictors, \n",
    "        # and collect the RMSE for the best K\n",
    "        acc <- workflow() |>\n",
    "          add_recipe(fire_recipe) |>\n",
    "          add_model(knn_spec) |>\n",
    "          tune_grid(resamples = fire_vfold, grid = 10) |>\n",
    "          collect_metrics() |>\n",
    "          filter(.metric == \"rmse\") |>\n",
    "          summarize(min = min(mean))\n",
    "        acc <- acc$min |> unlist()\n",
    "\n",
    "        # add this result to the dataframe\n",
    "        accs[[j]] <- acc\n",
    "        models[[j]] <- model_string\n",
    "        \n",
    "        #dplyr::last_dplyr_warnings()\n",
    "    }\n",
    "    jstar <- which.max(unlist(accs))\n",
    "    results <- results |> \n",
    "      add_row(size = i, \n",
    "              model_string = models[[jstar]], \n",
    "              rmse = accs[[jstar]])\n",
    "    selected <- c(selected, names[[jstar]])\n",
    "    names <- names[-jstar]\n",
    "}\n",
    "results"
   ]
  },
  {
   "cell_type": "markdown",
   "id": "dcec639d-183a-4ab1-b50b-5d0c7a276ef1",
   "metadata": {},
   "source": [
    "- Display the distributions of each of these variables using histograms (Hint: use facet_wrap() or facet_grid() to get all the plots to show together)- \n"
   ]
  },
  {
   "cell_type": "code",
   "execution_count": null,
   "id": "7009ed99-01b7-4589-8ae7-f464b7eea40c",
   "metadata": {},
   "outputs": [],
   "source": []
  }
 ],
 "metadata": {
  "kernelspec": {
   "display_name": "R",
   "language": "R",
   "name": "ir"
  },
  "language_info": {
   "codemirror_mode": "r",
   "file_extension": ".r",
   "mimetype": "text/x-r-source",
   "name": "R",
   "pygments_lexer": "r",
   "version": "4.2.2"
  }
 },
 "nbformat": 4,
 "nbformat_minor": 5
}
