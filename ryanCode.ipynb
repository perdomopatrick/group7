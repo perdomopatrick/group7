{
 "cells": [
  {
   "cell_type": "markdown",
   "id": "b7521d51-a94c-4e17-b036-3f7799ef7959",
   "metadata": {},
   "source": [
    "Libraries"
   ]
  },
  {
   "cell_type": "code",
   "execution_count": 1,
   "id": "3c96c73d-3d72-436c-80aa-b49db48d00a4",
   "metadata": {
    "tags": []
   },
   "outputs": [
    {
     "name": "stderr",
     "output_type": "stream",
     "text": [
      "── \u001b[1mAttaching packages\u001b[22m ─────────────────────────────────────── tidyverse 1.3.2 ──\n",
      "\u001b[32m✔\u001b[39m \u001b[34mggplot2\u001b[39m 3.4.2     \u001b[32m✔\u001b[39m \u001b[34mpurrr  \u001b[39m 1.0.1\n",
      "\u001b[32m✔\u001b[39m \u001b[34mtibble \u001b[39m 3.2.1     \u001b[32m✔\u001b[39m \u001b[34mdplyr  \u001b[39m 1.1.1\n",
      "\u001b[32m✔\u001b[39m \u001b[34mtidyr  \u001b[39m 1.3.0     \u001b[32m✔\u001b[39m \u001b[34mstringr\u001b[39m 1.5.0\n",
      "\u001b[32m✔\u001b[39m \u001b[34mreadr  \u001b[39m 2.1.3     \u001b[32m✔\u001b[39m \u001b[34mforcats\u001b[39m 0.5.2\n",
      "── \u001b[1mConflicts\u001b[22m ────────────────────────────────────────── tidyverse_conflicts() ──\n",
      "\u001b[31m✖\u001b[39m \u001b[34mdplyr\u001b[39m::\u001b[32mfilter()\u001b[39m masks \u001b[34mstats\u001b[39m::filter()\n",
      "\u001b[31m✖\u001b[39m \u001b[34mdplyr\u001b[39m::\u001b[32mlag()\u001b[39m    masks \u001b[34mstats\u001b[39m::lag()\n",
      "── \u001b[1mAttaching packages\u001b[22m ────────────────────────────────────── tidymodels 1.0.0 ──\n",
      "\n",
      "\u001b[32m✔\u001b[39m \u001b[34mbroom       \u001b[39m 1.0.2     \u001b[32m✔\u001b[39m \u001b[34mrsample     \u001b[39m 1.1.1\n",
      "\u001b[32m✔\u001b[39m \u001b[34mdials       \u001b[39m 1.1.0     \u001b[32m✔\u001b[39m \u001b[34mtune        \u001b[39m 1.0.1\n",
      "\u001b[32m✔\u001b[39m \u001b[34minfer       \u001b[39m 1.0.4     \u001b[32m✔\u001b[39m \u001b[34mworkflows   \u001b[39m 1.1.2\n",
      "\u001b[32m✔\u001b[39m \u001b[34mmodeldata   \u001b[39m 1.0.1     \u001b[32m✔\u001b[39m \u001b[34mworkflowsets\u001b[39m 1.0.0\n",
      "\u001b[32m✔\u001b[39m \u001b[34mparsnip     \u001b[39m 1.0.3     \u001b[32m✔\u001b[39m \u001b[34myardstick   \u001b[39m 1.1.0\n",
      "\u001b[32m✔\u001b[39m \u001b[34mrecipes     \u001b[39m 1.0.4     \n",
      "\n",
      "── \u001b[1mConflicts\u001b[22m ───────────────────────────────────────── tidymodels_conflicts() ──\n",
      "\u001b[31m✖\u001b[39m \u001b[34mscales\u001b[39m::\u001b[32mdiscard()\u001b[39m masks \u001b[34mpurrr\u001b[39m::discard()\n",
      "\u001b[31m✖\u001b[39m \u001b[34mdplyr\u001b[39m::\u001b[32mfilter()\u001b[39m   masks \u001b[34mstats\u001b[39m::filter()\n",
      "\u001b[31m✖\u001b[39m \u001b[34mrecipes\u001b[39m::\u001b[32mfixed()\u001b[39m  masks \u001b[34mstringr\u001b[39m::fixed()\n",
      "\u001b[31m✖\u001b[39m \u001b[34mdplyr\u001b[39m::\u001b[32mlag()\u001b[39m      masks \u001b[34mstats\u001b[39m::lag()\n",
      "\u001b[31m✖\u001b[39m \u001b[34myardstick\u001b[39m::\u001b[32mspec()\u001b[39m masks \u001b[34mreadr\u001b[39m::spec()\n",
      "\u001b[31m✖\u001b[39m \u001b[34mrecipes\u001b[39m::\u001b[32mstep()\u001b[39m   masks \u001b[34mstats\u001b[39m::step()\n",
      "\u001b[34m•\u001b[39m Use \u001b[32mtidymodels_prefer()\u001b[39m to resolve common conflicts.\n",
      "\n"
     ]
    }
   ],
   "source": [
    "library(repr)\n",
    "library(tidyverse)\n",
    "library(tidymodels)\n",
    "library(ggplot2)\n",
    "\n",
    "library(kknn)"
   ]
  },
  {
   "cell_type": "markdown",
   "id": "1818f11e-0341-4448-a3a9-2c91498dab37",
   "metadata": {},
   "source": [
    "Needed code from Patrick"
   ]
  },
  {
   "cell_type": "code",
   "execution_count": 2,
   "id": "0dd77e8b-115e-4f95-8be4-54ad96bdb43e",
   "metadata": {
    "tags": []
   },
   "outputs": [
    {
     "name": "stderr",
     "output_type": "stream",
     "text": [
      "\u001b[1mRows: \u001b[22m\u001b[34m517\u001b[39m \u001b[1mColumns: \u001b[22m\u001b[34m13\u001b[39m\n",
      "\u001b[36m──\u001b[39m \u001b[1mColumn specification\u001b[22m \u001b[36m────────────────────────────────────────────────────────\u001b[39m\n",
      "\u001b[1mDelimiter:\u001b[22m \",\"\n",
      "\u001b[31mchr\u001b[39m  (2): month, day\n",
      "\u001b[32mdbl\u001b[39m (11): X, Y, FFMC, DMC, DC, ISI, temp, RH, wind, rain, area\n",
      "\n",
      "\u001b[36mℹ\u001b[39m Use `spec()` to retrieve the full column specification for this data.\n",
      "\u001b[36mℹ\u001b[39m Specify the column types or set `show_col_types = FALSE` to quiet this message.\n"
     ]
    },
    {
     "data": {
      "text/html": [
       "<table class=\"dataframe\">\n",
       "<caption>A tibble: 5 × 9</caption>\n",
       "<thead>\n",
       "\t<tr><th scope=col>FFMC</th><th scope=col>DMC</th><th scope=col>DC</th><th scope=col>ISI</th><th scope=col>temp</th><th scope=col>RH</th><th scope=col>wind</th><th scope=col>rain</th><th scope=col>area</th></tr>\n",
       "\t<tr><th scope=col>&lt;dbl&gt;</th><th scope=col>&lt;dbl&gt;</th><th scope=col>&lt;dbl&gt;</th><th scope=col>&lt;dbl&gt;</th><th scope=col>&lt;dbl&gt;</th><th scope=col>&lt;dbl&gt;</th><th scope=col>&lt;dbl&gt;</th><th scope=col>&lt;dbl&gt;</th><th scope=col>&lt;dbl&gt;</th></tr>\n",
       "</thead>\n",
       "<tbody>\n",
       "\t<tr><td>86.2</td><td>26.2</td><td> 94.3</td><td>5.1</td><td> 8.2</td><td>51</td><td>6.7</td><td>0.0</td><td>0</td></tr>\n",
       "\t<tr><td>90.6</td><td>35.4</td><td>669.1</td><td>6.7</td><td>18.0</td><td>33</td><td>0.9</td><td>0.0</td><td>0</td></tr>\n",
       "\t<tr><td>90.6</td><td>43.7</td><td>686.9</td><td>6.7</td><td>14.6</td><td>33</td><td>1.3</td><td>0.0</td><td>0</td></tr>\n",
       "\t<tr><td>91.7</td><td>33.3</td><td> 77.5</td><td>9.0</td><td> 8.3</td><td>97</td><td>4.0</td><td>0.2</td><td>0</td></tr>\n",
       "\t<tr><td>89.3</td><td>51.3</td><td>102.2</td><td>9.6</td><td>11.4</td><td>99</td><td>1.8</td><td>0.0</td><td>0</td></tr>\n",
       "</tbody>\n",
       "</table>\n"
      ],
      "text/latex": [
       "A tibble: 5 × 9\n",
       "\\begin{tabular}{lllllllll}\n",
       " FFMC & DMC & DC & ISI & temp & RH & wind & rain & area\\\\\n",
       " <dbl> & <dbl> & <dbl> & <dbl> & <dbl> & <dbl> & <dbl> & <dbl> & <dbl>\\\\\n",
       "\\hline\n",
       "\t 86.2 & 26.2 &  94.3 & 5.1 &  8.2 & 51 & 6.7 & 0.0 & 0\\\\\n",
       "\t 90.6 & 35.4 & 669.1 & 6.7 & 18.0 & 33 & 0.9 & 0.0 & 0\\\\\n",
       "\t 90.6 & 43.7 & 686.9 & 6.7 & 14.6 & 33 & 1.3 & 0.0 & 0\\\\\n",
       "\t 91.7 & 33.3 &  77.5 & 9.0 &  8.3 & 97 & 4.0 & 0.2 & 0\\\\\n",
       "\t 89.3 & 51.3 & 102.2 & 9.6 & 11.4 & 99 & 1.8 & 0.0 & 0\\\\\n",
       "\\end{tabular}\n"
      ],
      "text/markdown": [
       "\n",
       "A tibble: 5 × 9\n",
       "\n",
       "| FFMC &lt;dbl&gt; | DMC &lt;dbl&gt; | DC &lt;dbl&gt; | ISI &lt;dbl&gt; | temp &lt;dbl&gt; | RH &lt;dbl&gt; | wind &lt;dbl&gt; | rain &lt;dbl&gt; | area &lt;dbl&gt; |\n",
       "|---|---|---|---|---|---|---|---|---|\n",
       "| 86.2 | 26.2 |  94.3 | 5.1 |  8.2 | 51 | 6.7 | 0.0 | 0 |\n",
       "| 90.6 | 35.4 | 669.1 | 6.7 | 18.0 | 33 | 0.9 | 0.0 | 0 |\n",
       "| 90.6 | 43.7 | 686.9 | 6.7 | 14.6 | 33 | 1.3 | 0.0 | 0 |\n",
       "| 91.7 | 33.3 |  77.5 | 9.0 |  8.3 | 97 | 4.0 | 0.2 | 0 |\n",
       "| 89.3 | 51.3 | 102.2 | 9.6 | 11.4 | 99 | 1.8 | 0.0 | 0 |\n",
       "\n"
      ],
      "text/plain": [
       "  FFMC DMC  DC    ISI temp RH wind rain area\n",
       "1 86.2 26.2  94.3 5.1  8.2 51 6.7  0.0  0   \n",
       "2 90.6 35.4 669.1 6.7 18.0 33 0.9  0.0  0   \n",
       "3 90.6 43.7 686.9 6.7 14.6 33 1.3  0.0  0   \n",
       "4 91.7 33.3  77.5 9.0  8.3 97 4.0  0.2  0   \n",
       "5 89.3 51.3 102.2 9.6 11.4 99 1.8  0.0  0   "
      ]
     },
     "metadata": {},
     "output_type": "display_data"
    }
   ],
   "source": [
    "url <- \"https://raw.githubusercontent.com/perdomopatrick/group7/main/forestfires.csv\"\n",
    "data <- read_csv(url)\n",
    "\n",
    "clean_data <- data|>\n",
    "      select(-X,-Y,-month,-day)\n",
    "\n",
    "head(clean_data, n= 5)\n",
    "\n",
    "set.seed(1133) \n",
    "\n",
    "data_split <- initial_split(clean_data, prop = 0.75, strata = area)\n",
    "data_training <- training(data_split)\n",
    "data_testing <- testing(data_split)"
   ]
  },
  {
   "cell_type": "markdown",
   "id": "37b24581-f682-4a47-ad5e-d7307697029f",
   "metadata": {},
   "source": [
    "Tune your model to choose the best k-neighbours using cross validation."
   ]
  },
  {
   "cell_type": "code",
   "execution_count": 3,
   "id": "b7a649e7-b143-4a7a-bd80-0626011f5369",
   "metadata": {
    "tags": []
   },
   "outputs": [
    {
     "ename": "ERROR",
     "evalue": "Error in is_model_spec(spec): object 'fire_wind_spec' not found\n",
     "output_type": "error",
     "traceback": [
      "Error in is_model_spec(spec): object 'fire_wind_spec' not found\nTraceback:\n",
      "1. add_model(add_recipe(workflow(), fire_wind_recipe), fire_wind_spec)",
      "2. new_action_model(spec, formula)",
      "3. is_model_spec(spec)"
     ]
    }
   ],
   "source": [
    "# Tuning for best k-neighbours\n",
    "\n",
    "fire_recipe <- recipe(area ~ RH + rain + DMC + wind + ISI, data = data_training) |>\n",
    "  step_scale(all_predictors()) |>\n",
    "  step_center(all_predictors())\n",
    "\n",
    "fire_spec <- nearest_neighbor(weight_func = \"rectangular\", neighbors = tune()) |>\n",
    "                  set_engine(\"kknn\") |>\n",
    "                  set_mode(\"regression\")\n",
    "\n",
    "fire_vfold <- vfold_cv(data_training, v = 5, strata = area)\n",
    "\n",
    "fire_wkflw <- workflow() |>\n",
    "  add_recipe(fire_wind_recipe) |>\n",
    "  add_model(fire_wind_spec)\n",
    "\n",
    "gridvals <- tibble(neighbors = seq(1, 100))\n",
    "\n",
    "fire_results <- fire_wind_wkflw |>\n",
    "  tune_grid(resamples = fire_wind_vfold, grid = gridvals) |>\n",
    "  collect_metrics() |>\n",
    "  filter(.metric == \"rmse\")\n",
    "\n",
    "fire_min <- fire_wind_results |>\n",
    "  filter(mean == min(mean))\n",
    "\n",
    "fire_min"
   ]
  },
  {
   "cell_type": "code",
   "execution_count": null,
   "id": "74619176-3d59-48a2-96af-6041e2d5ae62",
   "metadata": {
    "tags": []
   },
   "outputs": [],
   "source": [
    "# Visualization of best neighbors\n",
    "fire_neighbors <- fire_wind_results |>\n",
    "  ggplot(aes(x = neighbors, y = mean)) +\n",
    "  geom_point() +\n",
    "  geom_line(colour = \"blue\") +\n",
    "  geom_vline(aes(xintercept = fire_wind_min$neighbors, colour = \"red\")) + # takes the neighbors value from min object\n",
    "  labs(x = \"Neighbors\", y = \"RMSE\", caption = \"Graph 2\") +\n",
    "  theme(legend.position=\"none\")\n",
    "\n",
    "fire_neighbors"
   ]
  },
  {
   "cell_type": "markdown",
   "id": "70d98b54-a6ac-4213-bbf8-407ee0b91a6e",
   "metadata": {},
   "source": [
    "Now perform the knn-regression on your test set."
   ]
  },
  {
   "cell_type": "code",
   "execution_count": null,
   "id": "e9f7106c-48ea-4db2-9ba7-039458153664",
   "metadata": {
    "tags": []
   },
   "outputs": [],
   "source": [
    "# results with optimal knn neighbors value\n",
    "\n",
    "kmin <- fire_wind_min |> pull(neighbors)\n",
    "\n",
    "new_fire_spec <- nearest_neighbor(weight_func = \"rectangular\", neighbors = kmin) |>\n",
    "  set_engine(\"kknn\") |>\n",
    "  set_mode(\"regression\")\n",
    "\n",
    "new_fire_fit <- workflow() |>\n",
    "  add_recipe(fire_wind_recipe) |>\n",
    "  add_model(new_fire_wind_spec) |>\n",
    "  fit(data = data_training)\n",
    "\n",
    "new_fire_results <- new_fire_wind_fit |>\n",
    "  predict(data_testing) |>\n",
    "  bind_cols(data_testing) |>\n",
    "  metrics(truth = area, estimate = .pred) |>\n",
    "  filter(.metric == 'rmse')\n",
    "\n",
    "new_fire_results"
   ]
  },
  {
   "cell_type": "code",
   "execution_count": null,
   "id": "5d6a7803-36d6-42d7-a448-11eefef78e76",
   "metadata": {},
   "outputs": [],
   "source": []
  }
 ],
 "metadata": {
  "kernelspec": {
   "display_name": "R",
   "language": "R",
   "name": "ir"
  },
  "language_info": {
   "codemirror_mode": "r",
   "file_extension": ".r",
   "mimetype": "text/x-r-source",
   "name": "R",
   "pygments_lexer": "r",
   "version": "4.2.2"
  }
 },
 "nbformat": 4,
 "nbformat_minor": 5
}
