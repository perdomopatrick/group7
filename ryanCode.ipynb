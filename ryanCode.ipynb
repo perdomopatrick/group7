{
 "cells": [
  {
   "cell_type": "markdown",
   "id": "b7521d51-a94c-4e17-b036-3f7799ef7959",
   "metadata": {},
   "source": [
    "Libraries"
   ]
  },
  {
   "cell_type": "code",
   "execution_count": 1,
   "id": "3c96c73d-3d72-436c-80aa-b49db48d00a4",
   "metadata": {
    "tags": []
   },
   "outputs": [
    {
     "name": "stderr",
     "output_type": "stream",
     "text": [
      "── \u001b[1mAttaching packages\u001b[22m ─────────────────────────────────────── tidyverse 1.3.2 ──\n",
      "\u001b[32m✔\u001b[39m \u001b[34mggplot2\u001b[39m 3.4.2     \u001b[32m✔\u001b[39m \u001b[34mpurrr  \u001b[39m 1.0.1\n",
      "\u001b[32m✔\u001b[39m \u001b[34mtibble \u001b[39m 3.2.1     \u001b[32m✔\u001b[39m \u001b[34mdplyr  \u001b[39m 1.1.1\n",
      "\u001b[32m✔\u001b[39m \u001b[34mtidyr  \u001b[39m 1.3.0     \u001b[32m✔\u001b[39m \u001b[34mstringr\u001b[39m 1.5.0\n",
      "\u001b[32m✔\u001b[39m \u001b[34mreadr  \u001b[39m 2.1.3     \u001b[32m✔\u001b[39m \u001b[34mforcats\u001b[39m 0.5.2\n",
      "── \u001b[1mConflicts\u001b[22m ────────────────────────────────────────── tidyverse_conflicts() ──\n",
      "\u001b[31m✖\u001b[39m \u001b[34mdplyr\u001b[39m::\u001b[32mfilter()\u001b[39m masks \u001b[34mstats\u001b[39m::filter()\n",
      "\u001b[31m✖\u001b[39m \u001b[34mdplyr\u001b[39m::\u001b[32mlag()\u001b[39m    masks \u001b[34mstats\u001b[39m::lag()\n",
      "── \u001b[1mAttaching packages\u001b[22m ────────────────────────────────────── tidymodels 1.0.0 ──\n",
      "\n",
      "\u001b[32m✔\u001b[39m \u001b[34mbroom       \u001b[39m 1.0.2     \u001b[32m✔\u001b[39m \u001b[34mrsample     \u001b[39m 1.1.1\n",
      "\u001b[32m✔\u001b[39m \u001b[34mdials       \u001b[39m 1.1.0     \u001b[32m✔\u001b[39m \u001b[34mtune        \u001b[39m 1.0.1\n",
      "\u001b[32m✔\u001b[39m \u001b[34minfer       \u001b[39m 1.0.4     \u001b[32m✔\u001b[39m \u001b[34mworkflows   \u001b[39m 1.1.2\n",
      "\u001b[32m✔\u001b[39m \u001b[34mmodeldata   \u001b[39m 1.0.1     \u001b[32m✔\u001b[39m \u001b[34mworkflowsets\u001b[39m 1.0.0\n",
      "\u001b[32m✔\u001b[39m \u001b[34mparsnip     \u001b[39m 1.0.3     \u001b[32m✔\u001b[39m \u001b[34myardstick   \u001b[39m 1.1.0\n",
      "\u001b[32m✔\u001b[39m \u001b[34mrecipes     \u001b[39m 1.0.4     \n",
      "\n",
      "── \u001b[1mConflicts\u001b[22m ───────────────────────────────────────── tidymodels_conflicts() ──\n",
      "\u001b[31m✖\u001b[39m \u001b[34mscales\u001b[39m::\u001b[32mdiscard()\u001b[39m masks \u001b[34mpurrr\u001b[39m::discard()\n",
      "\u001b[31m✖\u001b[39m \u001b[34mdplyr\u001b[39m::\u001b[32mfilter()\u001b[39m   masks \u001b[34mstats\u001b[39m::filter()\n",
      "\u001b[31m✖\u001b[39m \u001b[34mrecipes\u001b[39m::\u001b[32mfixed()\u001b[39m  masks \u001b[34mstringr\u001b[39m::fixed()\n",
      "\u001b[31m✖\u001b[39m \u001b[34mdplyr\u001b[39m::\u001b[32mlag()\u001b[39m      masks \u001b[34mstats\u001b[39m::lag()\n",
      "\u001b[31m✖\u001b[39m \u001b[34myardstick\u001b[39m::\u001b[32mspec()\u001b[39m masks \u001b[34mreadr\u001b[39m::spec()\n",
      "\u001b[31m✖\u001b[39m \u001b[34mrecipes\u001b[39m::\u001b[32mstep()\u001b[39m   masks \u001b[34mstats\u001b[39m::step()\n",
      "\u001b[34m•\u001b[39m Use \u001b[32mtidymodels_prefer()\u001b[39m to resolve common conflicts.\n",
      "\n"
     ]
    },
    {
     "ename": "ERROR",
     "evalue": "Error in library(kknn): there is no package called ‘kknn’\n",
     "output_type": "error",
     "traceback": [
      "Error in library(kknn): there is no package called ‘kknn’\nTraceback:\n",
      "1. library(kknn)"
     ]
    }
   ],
   "source": [
    "library(repr)\n",
    "library(tidyverse)\n",
    "library(tidymodels)\n",
    "library(ggplot2)\n",
    "\n",
    "library(kknn)"
   ]
  },
  {
   "cell_type": "markdown",
   "id": "1818f11e-0341-4448-a3a9-2c91498dab37",
   "metadata": {},
   "source": [
    "Needed code from Patrick"
   ]
  },
  {
   "cell_type": "code",
   "execution_count": null,
   "id": "0dd77e8b-115e-4f95-8be4-54ad96bdb43e",
   "metadata": {
    "tags": []
   },
   "outputs": [],
   "source": [
    "url <- \"https://raw.githubusercontent.com/perdomopatrick/group7/main/forestfires.csv\"\n",
    "data <- read_csv(url)\n",
    "\n",
    "clean_data <- data|>\n",
    "      select(-X,-Y,-month,-day)\n",
    "\n",
    "head(clean_data, n= 5)\n",
    "\n",
    "set.seed(1133) \n",
    "\n",
    "data_split <- initial_split(clean_data, prop = 0.75, strata = area)\n",
    "data_training <- training(data_split)\n",
    "data_testing <- testing(data_split)"
   ]
  },
  {
   "cell_type": "markdown",
   "id": "37b24581-f682-4a47-ad5e-d7307697029f",
   "metadata": {},
   "source": [
    "Tune your model to choose the best k-neighbours using cross validation."
   ]
  },
  {
   "cell_type": "code",
   "execution_count": null,
   "id": "b7a649e7-b143-4a7a-bd80-0626011f5369",
   "metadata": {
    "tags": []
   },
   "outputs": [],
   "source": [
    "# Tuning for best k-neighbours\n",
    "\n",
    "fire_recipe <- recipe(area ~ RH + rain + DMC + wind + ISI, data = data_training) |>\n",
    "  step_scale(all_predictors()) |>\n",
    "  step_center(all_predictors())\n",
    "\n",
    "fire_spec <- nearest_neighbor(weight_func = \"rectangular\", neighbors = tune()) |>\n",
    "                  set_engine(\"kknn\") |>\n",
    "                  set_mode(\"regression\")\n",
    "\n",
    "fire_vfold <- vfold_cv(data_training, v = 5, strata = area)\n",
    "\n",
    "fire_wkflw <- workflow() |>\n",
    "  add_recipe(fire_recipe) |>\n",
    "  add_model(fire_spec)\n",
    "\n",
    "gridvals <- tibble(neighbors = seq(1, 100))\n",
    "\n",
    "fire_results <- fire_wkflw |>\n",
    "  tune_grid(resamples = fire_vfold, grid = gridvals) |>\n",
    "  collect_metrics() |>\n",
    "  filter(.metric == \"rmse\")\n",
    "\n",
    "fire_min <- fire_wind_results |>\n",
    "  filter(mean == min(mean))\n",
    "\n",
    "fire_min"
   ]
  },
  {
   "cell_type": "code",
   "execution_count": null,
   "id": "74619176-3d59-48a2-96af-6041e2d5ae62",
   "metadata": {
    "tags": []
   },
   "outputs": [],
   "source": [
    "# Visualization of best neighbors\n",
    "fire_neighbors <- fire_wind_results |>\n",
    "  ggplot(aes(x = neighbors, y = mean)) +\n",
    "  geom_point() +\n",
    "  geom_line(colour = \"blue\") +\n",
    "  geom_vline(aes(xintercept = fire_wind_min$neighbors, colour = \"red\")) + # takes the neighbors value from min object\n",
    "  labs(x = \"Neighbors\", y = \"RMSE\", caption = \"Graph 2\") +\n",
    "  theme(legend.position=\"none\")\n",
    "\n",
    "fire_neighbors"
   ]
  },
  {
   "cell_type": "markdown",
   "id": "70d98b54-a6ac-4213-bbf8-407ee0b91a6e",
   "metadata": {},
   "source": [
    "Now perform the knn-regression on your test set."
   ]
  },
  {
   "cell_type": "code",
   "execution_count": null,
   "id": "e9f7106c-48ea-4db2-9ba7-039458153664",
   "metadata": {
    "tags": []
   },
   "outputs": [],
   "source": [
    "# results with optimal knn neighbors value\n",
    "\n",
    "kmin <- fire_min |> pull(neighbors)\n",
    "\n",
    "new_fire_spec <- nearest_neighbor(weight_func = \"rectangular\", neighbors = kmin) |>\n",
    "  set_engine(\"kknn\") |>\n",
    "  set_mode(\"regression\")\n",
    "\n",
    "new_fire_fit <- workflow() |>\n",
    "  add_recipe(fire_recipe) |>\n",
    "  add_model(new_fire_spec) |>\n",
    "  fit(data = data_training)\n",
    "\n",
    "new_fire_results <- new_fire_fit |>\n",
    "  predict(data_testing) |>\n",
    "  bind_cols(data_testing) |>\n",
    "  metrics(truth = area, estimate = .pred) |>\n",
    "  filter(.metric == 'rmse')\n",
    "\n",
    "new_fire_results"
   ]
  },
  {
   "cell_type": "code",
   "execution_count": null,
   "id": "5d6a7803-36d6-42d7-a448-11eefef78e76",
   "metadata": {},
   "outputs": [],
   "source": []
  }
 ],
 "metadata": {
  "kernelspec": {
   "display_name": "R",
   "language": "R",
   "name": "ir"
  },
  "language_info": {
   "codemirror_mode": "r",
   "file_extension": ".r",
   "mimetype": "text/x-r-source",
   "name": "R",
   "pygments_lexer": "r",
   "version": "4.2.2"
  }
 },
 "nbformat": 4,
 "nbformat_minor": 5
}
